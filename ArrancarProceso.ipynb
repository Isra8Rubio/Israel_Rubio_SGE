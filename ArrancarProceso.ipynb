{
  "nbformat": 4,
  "nbformat_minor": 0,
  "metadata": {
    "colab": {
      "provenance": [],
      "authorship_tag": "ABX9TyOU/GhJtePd9zrBXZmhdQ6A",
      "include_colab_link": true
    },
    "kernelspec": {
      "name": "python3",
      "display_name": "Python 3"
    },
    "language_info": {
      "name": "python"
    }
  },
  "cells": [
    {
      "cell_type": "markdown",
      "metadata": {
        "id": "view-in-github",
        "colab_type": "text"
      },
      "source": [
        "<a href=\"https://colab.research.google.com/github/Isra8Rubio/Israel_Rubio_SGE/blob/main/ArrancarProceso.ipynb\" target=\"_parent\"><img src=\"https://colab.research.google.com/assets/colab-badge.svg\" alt=\"Open In Colab\"/></a>"
      ]
    },
    {
      "cell_type": "code",
      "execution_count": 2,
      "metadata": {
        "id": "xIyOER0vRR3F",
        "colab": {
          "base_uri": "https://localhost:8080/"
        },
        "outputId": "d1d7b9c0-5722-4352-8aaa-af980feaec4d"
      },
      "outputs": [
        {
          "output_type": "stream",
          "name": "stdout",
          "text": [
            "-f\n"
          ]
        }
      ],
      "source": [
        "import sys\n",
        "\n",
        "def main(args):\n",
        "  nombre = args[0]\n",
        "  print(nombre)\n",
        "\n",
        "if __name__ == '__main__':\n",
        "    arguments = sys.argv[1:]\n",
        "    main(arguments)"
      ]
    },
    {
      "cell_type": "code",
      "source": [
        "!python script.py juan"
      ],
      "metadata": {
        "colab": {
          "base_uri": "https://localhost:8080/"
        },
        "id": "oH18osXNUaDY",
        "outputId": "85672531-7b52-44fc-f111-bbb501cb8b05"
      },
      "execution_count": 3,
      "outputs": [
        {
          "output_type": "stream",
          "name": "stdout",
          "text": [
            "juan\n"
          ]
        }
      ]
    }
  ]
}